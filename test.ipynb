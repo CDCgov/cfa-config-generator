{
 "cells": [
  {
   "cell_type": "code",
   "execution_count": null,
   "metadata": {},
   "outputs": [],
   "source": [
    "import json\n",
    "import logging\n",
    "import ast\n",
    "\n",
    "from utils.azure.auth import obtain_sp_credential\n",
    "from utils.azure.storage import instantiate_blob_service_client\n",
    "from utils.epinow2.constants import azure_storage\n",
    "from utils.epinow2.functions import (\n",
    "    extract_user_args,\n",
    "    generate_task_configs,\n",
    "    generate_timestamp,\n",
    "    validate_args,\n",
    ")\n",
    "\n",
    "import os\n",
    "from datetime import date, datetime, timedelta, timezone\n",
    "from uuid import UUID, uuid1\n",
    "\n",
    "from utils.epinow2.constants import (\n",
    "    all_diseases,\n",
    "    all_states,\n",
    "    nssp_states_omit,\n",
    "    shared_params,\n",
    ")"
   ]
  },
  {
   "cell_type": "code",
   "execution_count": null,
   "metadata": {},
   "outputs": [],
   "source": [
    "\n",
    "\n",
    "\n",
    "logger = logging.getLogger(__name__)\n",
    "\n",
    "if __name__ == \"__main__\":\n",
    "    \"\"\"\n",
    "    A script to generate `epinow2` configuration objects. This\n",
    "    will be invoked either by 1) a scheduled GH action using\n",
    "    default values, or 2) a user-triggered workflow with supplied\n",
    "    state, pathogen, report_date, and reference_date parameters.\n",
    "    This script is the entrypoint to the workflow that generates\n",
    "    configuration objects, validates them against a schema, and\n",
    "    writes them to Blob Storage.\n",
    "    \"\"\"\n",
    "\n",
    "    # Generate job-specific parameters\n",
    "    as_of_date = generate_timestamp()\n",
    "\n",
    "    # Pull run parameters from environment\n",
    "    user_args = extract_user_args(as_of_date=as_of_date)\n",
    "\n",
    "    # Validate and sanitize args\n",
    "    sanitized_args = validate_args(**user_args)\n",
    "\n",
    "    # Generate task-specific configs\n",
    "    task_configs, job_id = generate_task_configs(**sanitized_args)\n",
    "\n",
    "    # Push task configs to Azure Blob Storage\n",
    "    try:\n",
    "        sp_credential = obtain_sp_credential()\n",
    "        storage_client = instantiate_blob_service_client(\n",
    "            sp_credential=sp_credential,\n",
    "            account_url=azure_storage[\"azure_storage_account_url\"],\n",
    "        )\n",
    "        container_client = storage_client.get_container_client(\n",
    "            container=azure_storage[\"azure_container_name\"]\n",
    "        )\n",
    "        for task in task_configs:\n",
    "            blob_name = f\"{job_id}/{task['task_id']}.json\"\n",
    "            container_client.upload_blob(\n",
    "                name=blob_name, data=json.dumps(task, indent=2), overwrite=True\n",
    "            )\n",
    "    except (LookupError, ValueError) as e:\n",
    "        logger.error(f\"Error pushing to Azure: {e}\")\n",
    "        raise e\n",
    "\n",
    "    logger.info(\n",
    "        f\"Successfully generated configs for job; tasks stored in {job_id} directory.\"\n",
    "    )"
   ]
  },
  {
   "cell_type": "code",
   "execution_count": null,
   "metadata": {},
   "outputs": [],
   "source": [
    "import ast\n",
    "import os\n",
    "\n",
    "exlc_dict = ast.literal_eval(os.environ[\"exclusions\"])"
   ]
  },
  {
   "cell_type": "code",
   "execution_count": null,
   "metadata": {},
   "outputs": [],
   "source": [
    "\n",
    "excl_dict = ast.literal_eval(os.environ[\"exclusions\"])"
   ]
  },
  {
   "cell_type": "code",
   "execution_count": 16,
   "metadata": {},
   "outputs": [
    {
     "data": {
      "text/plain": [
       "{'geo_value': 'NY'}"
      ]
     },
     "execution_count": 16,
     "metadata": {},
     "output_type": "execute_result"
    }
   ],
   "source": [
    "excl_dict"
   ]
  },
  {
   "cell_type": "code",
   "execution_count": 17,
   "metadata": {},
   "outputs": [],
   "source": [
    "filter = {\"state\": \"NY\", \"disease\": \"COVID-19\"}\n",
    "exclude_ny = '{\"state\": \"NY\"}'\n",
    "os.environ[\"exclusions\"] = exclude_ny"
   ]
  },
  {
   "cell_type": "code",
   "execution_count": 3,
   "metadata": {},
   "outputs": [],
   "source": [
    "# Generate job-specific parameters\n",
    "as_of_date = generate_timestamp()\n",
    "\n",
    "# Pull run parameters from environment\n",
    "user_args = extract_user_args(as_of_date=as_of_date)\n",
    "\n",
    "# Validate and sanitize args\n",
    "sanitized_args = validate_args(**user_args)\n",
    "\n",
    "# Generate task-specific configs\n",
    "task_configs, job_id = generate_task_configs(**sanitized_args)"
   ]
  },
  {
   "cell_type": "code",
   "execution_count": null,
   "metadata": {},
   "outputs": [
    {
     "data": {
      "text/plain": [
       "102"
      ]
     },
     "execution_count": 5,
     "metadata": {},
     "output_type": "execute_result"
    }
   ],
   "source": [
    "Sys."
   ]
  },
  {
   "cell_type": "code",
   "execution_count": null,
   "metadata": {},
   "outputs": [],
   "source": [
    "\n",
    "filtered_result = filter_data(task_configs, exclude_ny)\n",
    "print(json.dumps(filtered_result, indent=2))"
   ]
  },
  {
   "cell_type": "code",
   "execution_count": null,
   "metadata": {},
   "outputs": [],
   "source": [
    "user_args"
   ]
  },
  {
   "cell_type": "code",
   "execution_count": 10,
   "metadata": {},
   "outputs": [],
   "source": [
    "# Generate job-specific parameters\n",
    "as_of_date = generate_timestamp()\n",
    "\n",
    "# Pull run parameters from environment\n",
    "user_args = extract_user_args(as_of_date=as_of_date)\n",
    "\n",
    "# Validate and sanitize args\n",
    "sanitized_args = validate_args(**user_args)\n",
    "\n",
    "# Generate task-specific configs\n",
    "task_configs, job_id = generate_task_configs(**sanitized_args)"
   ]
  }
 ],
 "metadata": {
  "kernelspec": {
   "display_name": ".venv",
   "language": "python",
   "name": "python3"
  },
  "language_info": {
   "codemirror_mode": {
    "name": "ipython",
    "version": 3
   },
   "file_extension": ".py",
   "mimetype": "text/x-python",
   "name": "python",
   "nbconvert_exporter": "python",
   "pygments_lexer": "ipython3",
   "version": "3.11.0rc1"
  }
 },
 "nbformat": 4,
 "nbformat_minor": 2
}
