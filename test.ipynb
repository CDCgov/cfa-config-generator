{
 "cells": [
  {
   "cell_type": "code",
   "execution_count": null,
   "metadata": {},
   "outputs": [],
   "source": [
    "# Author: Micah Wiesner\n",
    "# Minimal working example to test code in interactive manner\n",
    "# To be deleted before PR\n",
    "\n",
    "import os\n",
    "\n",
    "from utils.epinow2.functions import (\n",
    "    extract_user_args,\n",
    "    generate_task_configs,\n",
    "    generate_timestamp,\n",
    "    validate_args,\n",
    ")"
   ]
  },
  {
   "cell_type": "code",
   "execution_count": null,
   "metadata": {},
   "outputs": [],
   "source": [
    "os.environ[\"task_exclusions\"] = \"ID:COVID-19,WA:Influenza\"\n",
    "# Generate job-specific parameters\n",
    "as_of_date = generate_timestamp()\n",
    "\n",
    "# Pull run parameters from environment\n",
    "user_args = extract_user_args(as_of_date=as_of_date)\n",
    "\n",
    "# Validate and sanitize args\n",
    "sanitized_args = validate_args(**user_args)\n",
    "\n",
    "# Generate task-specific configs\n",
    "task_configs, job_id = generate_task_configs(**sanitized_args)\n",
    "\n",
    "# We start with 102 tasks. The above example should remove 2 tasks (not 4)\n",
    "len(task_configs)"
   ]
  },
  {
   "cell_type": "code",
   "execution_count": null,
   "metadata": {},
   "outputs": [],
   "source": [
    "# Test some basic examples;\n",
    "# third example should fail\n",
    "exclude_scenarios = [\n",
    "    \"ID:COVID-19\",\n",
    "    \"WY:COVID-19,WA:Influenza\",\n",
    "    \"ID:COVID-19,moon:monkeypox\",\n",
    "]\n",
    "for exclusion in exclude_scenarios:\n",
    "    os.environ[\"task_exclusions\"] = exclusion\n",
    "    # Generate job-specific parameters\n",
    "    as_of_date = generate_timestamp()\n",
    "\n",
    "    # Pull run parameters from environment\n",
    "    user_args = extract_user_args(as_of_date=as_of_date)\n",
    "\n",
    "    # Validate and sanitize args\n",
    "    sanitized_args = validate_args(**user_args)\n",
    "\n",
    "    # Generate task-specific configs\n",
    "    task_configs, job_id = generate_task_configs(**sanitized_args)\n",
    "    print(exclusion + \" --> succesful\")\n",
    "    print(len(task_configs), \"configs generated \\n\")"
   ]
  }
 ],
 "metadata": {
  "kernelspec": {
   "display_name": ".venv",
   "language": "python",
   "name": "python3"
  },
  "language_info": {
   "codemirror_mode": {
    "name": "ipython",
    "version": 3
   },
   "file_extension": ".py",
   "mimetype": "text/x-python",
   "name": "python",
   "nbconvert_exporter": "python",
   "pygments_lexer": "ipython3",
   "version": "3.11.0rc1"
  }
 },
 "nbformat": 4,
 "nbformat_minor": 2
}
