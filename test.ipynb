{
 "cells": [
  {
   "cell_type": "code",
   "execution_count": 9,
   "metadata": {},
   "outputs": [],
   "source": [
    "# Author: Micah Wiesner\n",
    "# Minimal working example to test code in interactive manner\n",
    "# To be deleted before PR\n",
    "\n",
    "import json\n",
    "import logging\n",
    "import ast\n",
    "\n",
    "from utils.azure.auth import obtain_sp_credential\n",
    "from utils.azure.storage import instantiate_blob_service_client\n",
    "from utils.epinow2.constants import azure_storage\n",
    "from utils.epinow2.functions import (\n",
    "    exclude_data,\n",
    "    extract_user_args,\n",
    "    generate_task_configs,\n",
    "    generate_task_id,\n",
    "    generate_timestamp,\n",
    "    validate_args,\n",
    ")\n",
    "\n",
    "import os\n",
    "from datetime import date, datetime, timedelta, timezone\n",
    "from uuid import UUID, uuid1\n",
    "\n",
    "from utils.epinow2.constants import (\n",
    "    all_diseases,\n",
    "    all_states,\n",
    "    nssp_states_omit,\n",
    "    shared_params,\n",
    ")"
   ]
  },
  {
   "cell_type": "code",
   "execution_count": null,
   "metadata": {},
   "outputs": [
    {
     "name": "stdout",
     "output_type": "stream",
     "text": [
      "removing ID and COVID-19\n",
      "removing ID and Influenza\n",
      "removing WA and COVID-19\n",
      "removing WA and Influenza\n"
     ]
    },
    {
     "data": {
      "text/plain": [
       "98"
      ]
     },
     "execution_count": 37,
     "metadata": {},
     "output_type": "execute_result"
    }
   ],
   "source": [
    "os.environ[\"task_exclusions\"] = \"ID:COVID-19,WA:Influenza\"\n",
    "# Generate job-specific parameters\n",
    "as_of_date = generate_timestamp()\n",
    "\n",
    "# Pull run parameters from environment\n",
    "user_args = extract_user_args(as_of_date=as_of_date)\n",
    "\n",
    "# Validate and sanitize args\n",
    "sanitized_args = validate_args(**user_args)\n",
    "\n",
    "# Generate task-specific configs\n",
    "task_configs, job_id = generate_task_configs(**sanitized_args)\n",
    "\n",
    "# We start with 102 tasks. The above example should remove 2 tasks (not 4)\n",
    "len(task_configs)"
   ]
  },
  {
   "cell_type": "code",
   "execution_count": null,
   "metadata": {},
   "outputs": [],
   "source": [
    "# Test some basic examples; \n",
    "# third example should fail\n",
    "exclude_scenarios = ['ID:COVID-19', \n",
    "                     'WY:COVID-19,WA:Influenza', \n",
    "                     'ID:COVID-19,moon:monkeypox']\n",
    "for exclusion in exclude_scenarios:\n",
    "    os.environ[\"task_exclusions\"] = exclusion\n",
    "    # Generate job-specific parameters\n",
    "    as_of_date = generate_timestamp()\n",
    "\n",
    "    # Pull run parameters from environment\n",
    "    user_args = extract_user_args(as_of_date=as_of_date)\n",
    "\n",
    "    # Validate and sanitize args\n",
    "    sanitized_args = validate_args(**user_args)\n",
    "\n",
    "    # Generate task-specific configs\n",
    "    task_configs, job_id = generate_task_configs(**sanitized_args)\n",
    "    print(exclusion + \" --> succesful\")\n",
    "    print(len(task_configs), \"configs generated \\n\")"
   ]
  }
 ],
 "metadata": {
  "kernelspec": {
   "display_name": ".venv",
   "language": "python",
   "name": "python3"
  },
  "language_info": {
   "codemirror_mode": {
    "name": "ipython",
    "version": 3
   },
   "file_extension": ".py",
   "mimetype": "text/x-python",
   "name": "python",
   "nbconvert_exporter": "python",
   "pygments_lexer": "ipython3",
   "version": "3.11.0rc1"
  }
 },
 "nbformat": 4,
 "nbformat_minor": 2
}
